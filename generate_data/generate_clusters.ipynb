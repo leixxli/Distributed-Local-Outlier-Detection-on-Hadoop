{
 "cells": [
  {
   "cell_type": "code",
   "execution_count": 1,
   "metadata": {
    "pycharm": {
     "is_executing": false
    }
   },
   "outputs": [],
   "source": [
    "from sklearn.datasets import make_blobs\n",
    "from matplotlib import pyplot as plt\n",
    "import pandas as pd \n",
    "import numpy as np\n",
    "from random import shuffle\n",
    "import seaborn as sns"
   ]
  },
  {
   "cell_type": "code",
   "execution_count": 2,
   "metadata": {
    "pycharm": {
     "is_executing": false
    },
    "scrolled": true
   },
   "outputs": [],
   "source": [
    "def generate_data(n,centers, l_axis, r_axis, ran_num):\n",
    "    \"\"\"\n",
    "    n: the number of samples\n",
    "    centers: the number of clusters \n",
    "    (l_axis,r_axis):  The bounding box for each cluster center \n",
    "    ran_num: the number of random numbers \n",
    "    \"\"\"\n",
    "  \n",
    "    data, label = make_blobs(n_samples=n, cluster_std = [np.random.randint(10,50) for _ in range(10)], n_features=2, centers=centers,center_box=(l_axis,r_axis))\n",
    "    clusters_df = pd.DataFrame(dict(x=data[:,0], y=data[:,1], label =label)) \n",
    "    \n",
    "    random_data = {'x':[np.random.uniform(l_axis,r_axis) for _ in range(ran_num)], 'y': [np.random.uniform(l_axis,r_axis) for _ in range(ran_num)] }\n",
    "    random_df = pd.DataFrame(random_data)\n",
    "    \n",
    "    data_df = shuffle(clusters_df.append(random_df, ignore_index = True))\n",
    "    data_df.reset_index(inplace=True, drop=True)\n",
    "    data_df = data_df.round(2) \n",
    "      \n",
    "    # write to csv \n",
    "    export_csv = data_df.to_csv (r'/Users/spyker/Desktop/data/lof.csv', index = None, header=True)\n",
    "    \n",
    "    return clusters_df, data_df\n",
    "    \n"
   ]
  },
  {
   "cell_type": "code",
   "execution_count": 3,
   "metadata": {
    "pycharm": {
     "is_executing": false
    }
   },
   "outputs": [],
   "source": [
    "if __name__ == \"__main__\":\n",
    "    #clusters, data = generate_data(1000000,10, 100, 2000,200)   # 1,000,300 points   ~ 18MB \n",
    "    clusters, data = generate_data(1000,10, 10, 1000,30) \n",
    "    \n",
    " "
   ]
  },
  {
   "cell_type": "code",
   "execution_count": null,
   "metadata": {
    "pycharm": {
     "is_executing": false
    }
   },
   "outputs": [],
   "source": [
    "\n",
    "sns.set(font_scale=1.3,style = 'darkgrid')\n",
    "plt.subplots(figsize=(15,10)) \n",
    "sns.scatterplot(x='x', y='y', hue = 'label', sizes=(50, 600),alpha=0.5,data=clusters.round(2),palette=sns.color_palette(\"dark\",10))\n",
    "\n"
   ]
  },
  {
   "cell_type": "code",
   "execution_count": null,
   "metadata": {
    "pycharm": {
     "is_executing": false
    }
   },
   "outputs": [],
   "source": [
    "sns.set(font_scale=1.3,style = 'darkgrid')\n",
    "plt.subplots(figsize=(15,10)) \n",
    "\n",
    "sns.scatterplot(x='x', y='y',data=data)"
   ]
  },
  {
   "cell_type": "code",
   "execution_count": null,
   "metadata": {
    "pycharm": {
     "is_executing": false
    }
   },
   "outputs": [],
   "source": []
  }
 ],
 "metadata": {
  "kernelspec": {
   "display_name": "Python 3",
   "language": "python",
   "name": "python3"
  },
  "language_info": {
   "codemirror_mode": {
    "name": "ipython",
    "version": 3
   },
   "file_extension": ".py",
   "mimetype": "text/x-python",
   "name": "python",
   "nbconvert_exporter": "python",
   "pygments_lexer": "ipython3",
   "version": "3.7.0"
  }
 },
 "nbformat": 4,
 "nbformat_minor": 1
}
